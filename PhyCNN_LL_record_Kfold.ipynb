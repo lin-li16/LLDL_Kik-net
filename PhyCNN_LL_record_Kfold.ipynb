{
 "cells": [
  {
   "cell_type": "code",
   "execution_count": null,
   "source": [
    "import numpy as np\r\n",
    "import pandas as pd\r\n",
    "import matplotlib.pyplot as plt\r\n",
    "import seaborn as sns\r\n",
    "import torch\r\n",
    "import torchvision\r\n",
    "import torch.nn as nn\r\n",
    "import warnings\r\n",
    "import time\r\n",
    "import os\r\n",
    "import scipy.io\r\n",
    "from tqdm import tqdm\r\n",
    "from solver import train, test\r\n",
    "from plot import plot_loss\r\n",
    "from eventDataset import eqkDataset\r\n",
    "from mpl_toolkits.axes_grid1.inset_locator import mark_inset\r\n",
    "from mpl_toolkits.axes_grid1.inset_locator import inset_axes\r\n",
    "warnings.filterwarnings(\"ignore\")\r\n",
    "sns.set_style('ticks')\r\n",
    "# sns.set()\r\n",
    "sns.set_context(\"talk\")\r\n",
    "plt.rcParams['font.sans-serif'] = 'Times New Roman'\r\n",
    "torch.set_default_tensor_type(torch.DoubleTensor)"
   ],
   "outputs": [],
   "metadata": {}
  },
  {
   "cell_type": "markdown",
   "source": [
    "## 导入数据"
   ],
   "metadata": {}
  },
  {
   "cell_type": "code",
   "execution_count": null,
   "source": [
    "station = 'TKCH08'\r\n",
    "dhacc = 981 * np.load(station + '_dhacc.npy')\r\n",
    "upacc = 981 * np.load(station + '_upacc.npy')\r\n",
    "# mdacc = 981 * np.load(station + '_mdacc.npy')\r\n",
    "msg = np.load(station + '_msg.npy')\r\n",
    "\r\n",
    "dt = 0.02\r\n",
    "t = np.linspace(dt, dt * dhacc.shape[1], dhacc.shape[1])"
   ],
   "outputs": [],
   "metadata": {}
  },
  {
   "cell_type": "code",
   "execution_count": null,
   "source": [
    "# 用井下地震动的PGA进行数据标准化\r\n",
    "PGA_dh = np.max(np.abs(dhacc), axis=1)\r\n",
    "PGA_up = np.max(np.abs(upacc), axis=1)\r\n",
    "for i in range(dhacc.shape[0]):\r\n",
    "    dhacc[i, :] = dhacc[i, :] / PGA_dh[i]\r\n",
    "    upacc[i, :] = upacc[i, :] / PGA_dh[i]"
   ],
   "outputs": [],
   "metadata": {}
  },
  {
   "cell_type": "code",
   "execution_count": null,
   "source": [
    "i = 23\r\n",
    "t = np.linspace(0.02, 60, 3000)\r\n",
    "plt.figure(figsize=((12, 3)))\r\n",
    "plt.subplots_adjust(left=0,bottom=0,top=1,right=1,hspace=0.3,wspace=0.2)\r\n",
    "plt.subplot(1, 2, 1)\r\n",
    "plt.plot(t, dhacc[i, :], label='downhole', linewidth=1)\r\n",
    "plt.xlabel('t (s)'), plt.ylabel('acc (gal)'), plt.legend(loc='upper right')\r\n",
    "plt.subplot(1, 2, 2)\r\n",
    "# plt.plot(t, mdacc[i, :], '--', label='simulate', linewidth=1)\r\n",
    "plt.plot(t, upacc[i, :], label='record', linewidth=1)\r\n",
    "plt.xlabel('t (s)'), plt.ylabel('acc (gal)'), plt.legend(loc='upper right')"
   ],
   "outputs": [],
   "metadata": {}
  },
  {
   "cell_type": "markdown",
   "source": [
    "## 构造求导矩阵"
   ],
   "metadata": {}
  },
  {
   "cell_type": "code",
   "execution_count": null,
   "source": [
    "n = dhacc.shape[1]\r\n",
    "phi1 = np.concatenate([np.array([-3 / 2, 2, -1 / 2]), np.zeros([n - 3, ])])\r\n",
    "temp1 = np.concatenate([-1 / 2 * np.identity(n - 2), np.zeros([n - 2, 2])], axis=1)\r\n",
    "temp2 = np.concatenate([np.zeros([n - 2, 2]), 1 / 2 * np.identity(n - 2)], axis=1)\r\n",
    "phi2 = temp1 + temp2\r\n",
    "phi3 = np.concatenate([np.zeros([n - 3, ]), np.array([1 / 2, -2, 3 / 2])])\r\n",
    "Phi_t = 1 / dt * np.concatenate([np.reshape(phi1, [1, phi1.shape[0]]), phi2, np.reshape(phi3, [1, phi3.shape[0]])], axis=0)\r\n",
    "Phi_t = torch.tensor(Phi_t)"
   ],
   "outputs": [],
   "metadata": {}
  },
  {
   "cell_type": "markdown",
   "source": [
    "## 构建神经网络模型"
   ],
   "metadata": {}
  },
  {
   "cell_type": "code",
   "execution_count": null,
   "source": [
    "class PhyCNN(nn.Module):\r\n",
    "    def __init__(self, Phi_t):\r\n",
    "        if torch.cuda.is_available():\r\n",
    "            Phi_t = Phi_t.cuda()\r\n",
    "        self.Phi_t = Phi_t\r\n",
    "        super(PhyCNN, self).__init__()\r\n",
    "        self.cnnlayer = nn.Sequential(\r\n",
    "            nn.Conv1d(1, 4, 201, bias=True, padding=100),\r\n",
    "            # nn.Sigmoid(),\r\n",
    "            nn.Tanh(),\r\n",
    "            # nn.ReLU(inplace=True),\r\n",
    "            nn.Conv1d(4, 16, 201, bias=True, padding=100),\r\n",
    "            # nn.Sigmoid(),\r\n",
    "            nn.Tanh(),\r\n",
    "            # nn.ReLU(inplace=True),\r\n",
    "            nn.Conv1d(16, 64, 201, bias=True, padding=100),\r\n",
    "            # nn.Sigmoid(),\r\n",
    "            # nn.Tanh(),\r\n",
    "            # # nn.ReLU(inplace=True),\r\n",
    "            # nn.Conv1d(16, 32, 101, bias=True, padding=50),\r\n",
    "            # nn.Tanh(),\r\n",
    "            # # nn.ReLU(inplace=True),\r\n",
    "            # nn.Conv1d(32, 64, 101, bias=True, padding=50),\r\n",
    "            nn.Tanh()\r\n",
    "            # nn.Sigmoid()\r\n",
    "            # nn.ReLU(inplace=True)\r\n",
    "        )\r\n",
    "\r\n",
    "        self.fc = nn.Sequential(\r\n",
    "            nn.Linear(64, 16),\r\n",
    "            # nn.Tanh(),\r\n",
    "            nn.ReLU(inplace=True),\r\n",
    "            nn.Linear(16, 4),\r\n",
    "            # nn.Tanh(),\r\n",
    "            nn.ReLU(inplace=True),\r\n",
    "            nn.Linear(4, 1)\r\n",
    "        )\r\n",
    "\r\n",
    "    def forward(self, x):\r\n",
    "        x = x.permute(0, 2, 1)\r\n",
    "        x = self.cnnlayer(x)\r\n",
    "        x = x.permute(0, 2, 1)\r\n",
    "        x = self.fc(x)\r\n",
    "        x_t = torch.matmul(self.Phi_t, x[:, :, 0].permute(1, 0))\r\n",
    "        x_tt = torch.matmul(self.Phi_t, x_t)\r\n",
    "        return x, x_t.permute(1, 0), x_tt.permute(1, 0)"
   ],
   "outputs": [],
   "metadata": {}
  },
  {
   "cell_type": "code",
   "execution_count": null,
   "source": [
    "def PhyCNNLoss(output, output_tt, target):\r\n",
    "    # PGA = torch.max(torch.abs(output_tt))/100\r\n",
    "    # loss = torch.mean((output_tt/PGA - target/PGA).pow(2))\r\n",
    "    loss = torch.mean((output_tt - target).pow(2))\r\n",
    "    # loss = torch.mean((output_tt - target).pow(2)) + torch.mean(output.pow(2))\r\n",
    "    return loss"
   ],
   "outputs": [],
   "metadata": {}
  },
  {
   "cell_type": "markdown",
   "source": [
    "## 构建k折交叉验证数据集并进行训练"
   ],
   "metadata": {}
  },
  {
   "cell_type": "code",
   "execution_count": null,
   "source": [
    "batch_size = 64\r\n",
    "valid_size = 0.1\r\n",
    "test_size = 0.1\r\n",
    "k_fold = 5\r\n",
    "max_epoch = 100\r\n",
    "disp_freq = 10\r\n",
    "learning_rate = 0.0001\r\n",
    "\r\n",
    "numdata = dhacc.shape[0]\r\n",
    "k_len = int(numdata / k_fold)\r\n",
    "index = list(range(numdata))\r\n",
    "np.random.shuffle(index)\r\n",
    "all_idx = []\r\n",
    "for i in range(k_fold):\r\n",
    "    if i == 0:\r\n",
    "        all_idx.append(index[:k_len * (i+1)])\r\n",
    "    elif i == k_fold - 1:\r\n",
    "        all_idx.append(index[i * k_len:])\r\n",
    "    else:\r\n",
    "        all_idx.append(index[i * k_len : (i+1) * k_len])\r\n",
    "\r\n",
    "output_all = []\r\n",
    "test_loss_all = []\r\n",
    "for i, test_idx in enumerate(all_idx):\r\n",
    "    train_idx = list(set(index) - set(test_idx))\r\n",
    "    valid_idx = train_idx[:k_len]\r\n",
    "    train_data, train_label = dhacc[train_idx, :, None], upacc[train_idx]\r\n",
    "    valid_data, valid_label = dhacc[valid_idx, :, None], upacc[valid_idx]\r\n",
    "    test_data, test_label = dhacc[test_idx, :, None], upacc[test_idx]\r\n",
    "\r\n",
    "    train_dataset = eqkDataset(train_data, train_label)\r\n",
    "    valid_dataset = eqkDataset(valid_data, valid_label)\r\n",
    "    test_dataset = eqkDataset(test_data, test_label)\r\n",
    "\r\n",
    "    train_loader = torch.utils.data.DataLoader(train_dataset, batch_size=batch_size)\r\n",
    "    valid_loader = torch.utils.data.DataLoader(valid_dataset)\r\n",
    "    test_loader = torch.utils.data.DataLoader(test_dataset)\r\n",
    "\r\n",
    "    Net = PhyCNN(Phi_t)\r\n",
    "    # GPU加速\r\n",
    "    if torch.cuda.is_available():\r\n",
    "        Net = Net.cuda()\r\n",
    "    # optimizer = torch.optim.LBFGS(Net.parameters(), lr=learning_rate, max_iter=2)\r\n",
    "    optimizer = torch.optim.Adam(Net.parameters(), lr=learning_rate)\r\n",
    "    criterion = nn.MSELoss()\r\n",
    "    starttime = time.time()\r\n",
    "    train_best_model ,valid_best_model, last_model, train_loss, valid_loss = train(Net, PhyCNNLoss, optimizer, train_loader, valid_loader, max_epoch, disp_freq)\r\n",
    "    print('{:d} Fold: Training Time {:.4f}'.format(i, time.time()-starttime))\r\n",
    "    prediction, test_loss = test(valid_best_model, PhyCNNLoss, test_loader)\r\n",
    "    torch.cuda.empty_cache()\r\n",
    "    output_all.append([train_best_model ,valid_best_model, last_model, train_loss, valid_loss])\r\n",
    "    test_loss_all.append(test_loss)"
   ],
   "outputs": [],
   "metadata": {}
  },
  {
   "cell_type": "code",
   "execution_count": null,
   "source": [
    "fig = plt.figure(figsize=(12, 4))\r\n",
    "plt.subplots_adjust(left=0.05,bottom=0.1,top=0.98,right=0.98,hspace=0.22,wspace=0.2)\r\n",
    "plt.subplot(1, 2, 1)\r\n",
    "for i in range(k_fold):\r\n",
    "    plt.plot(range(1, 1 + max_epoch), output_all[i][3], label='train', marker='o', color='#0072BD', markevery=int(max_epoch / 10))\r\n",
    "    plt.plot(range(1, 1 + max_epoch), output_all[i][4], label='train', marker='s', color='#D95319', markevery=int(max_epoch / 10))\r\n",
    "\r\n",
    "plt.xlabel('Epoch')\r\n",
    "plt.ylabel('Loss')\r\n",
    "plt.xticks(range(0, max_epoch + 1, int(max_epoch / 5)))\r\n",
    "\r\n",
    "plt.subplot(1, 2, 2)\r\n",
    "plt.bar(np.arange(k_fold) + 1,[float(a.cpu().detach()) for a in test_loss_all])\r\n",
    "plt.xlabel('k'), plt.ylabel('Test Loss')"
   ],
   "outputs": [],
   "metadata": {}
  },
  {
   "cell_type": "code",
   "execution_count": null,
   "source": [
    "plot_loss(train_loss, valid_loss)\r\n",
    "torch.save(train_best_model, os.path.join(station + '_results', 'PhyCNN_record_trainbest.pt'))\r\n",
    "torch.save(valid_best_model, os.path.join(station + '_results', 'PhyCNN_record_validbest.pt'))\r\n",
    "torch.save(last_model, os.path.join(station + '_results', 'PhyCNN_record_last.pt'))"
   ],
   "outputs": [],
   "metadata": {}
  },
  {
   "cell_type": "code",
   "execution_count": null,
   "source": [
    "train_pred = np.zeros(train_data.shape)\r\n",
    "train_pred_t = np.zeros(train_data[:, :, 0].shape)\r\n",
    "train_pred_tt = np.zeros(train_data[:, :, 0].shape)\r\n",
    "pbar = tqdm(range(train_data.shape[0]), desc='计算中', ncols=100)\r\n",
    "for i in pbar:\r\n",
    "    y, y_t, y_tt = valid_best_model(torch.tensor(train_data[i:i+1, :, :]).cuda())\r\n",
    "    train_pred[i, :, :] = y.cpu().detach().numpy()\r\n",
    "    train_pred_t[i, :] = y_t.cpu().detach().numpy()\r\n",
    "    train_pred_tt[i, :] = y_tt.cpu().detach().numpy()\r\n",
    "    train_data[i, :, 0] = train_data[i, :, 0] * PGA_dh[train_idx[i]]\r\n",
    "    train_pred_tt[i, :] = train_pred_tt[i, :] * PGA_dh[train_idx[i]]\r\n",
    "    train_label[i, :] = train_label[i, :] * PGA_dh[train_idx[i]]"
   ],
   "outputs": [],
   "metadata": {}
  },
  {
   "cell_type": "code",
   "execution_count": null,
   "source": [
    "dof = 0\r\n",
    "# for i in range(0, train_pred.shape[0]):\r\n",
    "for i in range(0, train_pred.shape[0], int(train_pred.shape[0] / 10)):\r\n",
    "    plt.figure(figsize=((24, 3)))\r\n",
    "    plt.subplots_adjust(left=0,bottom=0,top=1,right=1,hspace=0.3,wspace=0.2)\r\n",
    "    plt.subplot(1, 4, 1)\r\n",
    "    plt.plot(t, train_data[i, :, dof], label='downhole', linewidth=1)\r\n",
    "    plt.xlabel('t (s)'), plt.ylabel('acc (gal)'), plt.legend(loc='upper right')\r\n",
    "    plt.subplot(1, 4, 2)\r\n",
    "    plt.plot(t, train_label[i, :], label='record', linewidth=1)\r\n",
    "    plt.plot(t, train_pred_tt[i, :], '--', label='prediction', linewidth=1)\r\n",
    "    plt.xlabel('t (s)'), plt.ylabel('acc (gal)'), plt.legend(loc='upper right')\r\n",
    "    plt.subplot(1, 4, 3)\r\n",
    "    plt.plot(t, train_pred_t[i, :], label='prediction', linewidth=1)\r\n",
    "    plt.xlabel('t (s)'), plt.ylabel('v'), plt.legend(loc='upper right')\r\n",
    "    plt.subplot(1, 4, 4)\r\n",
    "    plt.plot(t, train_pred[i, :, dof], label='prediction', linewidth=1)\r\n",
    "    plt.xlabel('t (s)'), plt.ylabel('u'), plt.legend(loc='upper right')\r\n",
    "    plt.savefig(os.path.join(station + '_results', 'record_CNN', 'figures', 'train{:d}.svg'.format(i)))\r\n",
    "    # plt.close()"
   ],
   "outputs": [],
   "metadata": {}
  },
  {
   "cell_type": "code",
   "execution_count": null,
   "source": [
    "test_pred, test_pred_t, test_pred_tt = valid_best_model(torch.tensor(test_data).cuda())\r\n",
    "test_pred = test_pred.cpu().detach().numpy()\r\n",
    "test_pred_t = test_pred_t.cpu().detach().numpy()\r\n",
    "test_pred_tt = test_pred_tt.cpu().detach().numpy()\r\n",
    "for i in range(test_data.shape[0]):\r\n",
    "    test_data[i, :, 0] = test_data[i, :, 0] * PGA_dh[test_idx[i]]\r\n",
    "    test_label[i, :] = test_label[i, :] * PGA_dh[test_idx[i]]\r\n",
    "    test_pred_tt[i, :] = test_pred_tt[i, :] * PGA_dh[test_idx[i]]\r\n",
    "torch.cuda.empty_cache()"
   ],
   "outputs": [],
   "metadata": {}
  },
  {
   "cell_type": "code",
   "execution_count": null,
   "source": [
    "dof = 0\r\n",
    "for i in range(0, test_pred.shape[0], int(test_pred.shape[0]/10)):\r\n",
    "# for i in range(0, test_pred.shape[0]):\r\n",
    "    plt.figure(figsize=((24, 3)))\r\n",
    "    plt.subplots_adjust(left=0,bottom=0,top=1,right=1,hspace=0.3,wspace=0.2)\r\n",
    "    plt.subplot(1, 4, 1)\r\n",
    "    plt.plot(t, test_data[i, :, dof], label='downhole', linewidth=1)\r\n",
    "    plt.xlabel('t (s)'), plt.ylabel('acc (gal)'), plt.legend(loc='upper right')\r\n",
    "    plt.subplot(1, 4, 2)\r\n",
    "    plt.plot(t, test_label[i, :], label='record', linewidth=1)\r\n",
    "    plt.plot(t, test_pred_tt[i, :], '--', label='prediction', linewidth=1)\r\n",
    "    plt.xlabel('t (s)'), plt.ylabel('acc (gal)'), plt.legend(loc='upper right')\r\n",
    "    plt.subplot(1, 4, 3)\r\n",
    "    plt.plot(t, test_pred_t[i, :], label='prediction', linewidth=1)\r\n",
    "    plt.xlabel('t (s)'), plt.ylabel('v'), plt.legend(loc='upper right')\r\n",
    "    plt.subplot(1, 4, 4)\r\n",
    "    plt.plot(t, test_pred[i, :, dof], label='prediction', linewidth=1)\r\n",
    "    plt.xlabel('t (s)'), plt.ylabel('u'), plt.legend(loc='upper right')\r\n",
    "    plt.savefig(os.path.join(station + '_results', 'record_CNN', 'figures', 'test{:d}.svg'.format(i)))\r\n",
    "    # plt.close()"
   ],
   "outputs": [],
   "metadata": {}
  },
  {
   "cell_type": "code",
   "execution_count": null,
   "source": [
    "# scipy.io.savemat(os.path.join(station + '_results', 'record_CNN', 'result.mat'),\r\n",
    "#                  {'train_data': train_data, 'train_idx': train_idx, 'valid_idx': valid_idx, 'test_idx': test_idx, 'train_label': train_label, 'train_pred': train_pred, 'train_pred_t': train_pred_t, 'train_pred_tt': train_pred_tt, 'test_data': test_data,\r\n",
    "#                   'test_label': test_label, 'test_pred': test_pred, 'test_pred_t': test_pred_t, 'test_pred_tt': test_pred_tt, 'train_loss': train_loss, 'valid_loss': valid_loss, 'time': t, 'dt': dt})"
   ],
   "outputs": [],
   "metadata": {}
  }
 ],
 "metadata": {
  "orig_nbformat": 4,
  "language_info": {
   "name": "python",
   "version": "3.7.4",
   "mimetype": "text/x-python",
   "codemirror_mode": {
    "name": "ipython",
    "version": 3
   },
   "pygments_lexer": "ipython3",
   "nbconvert_exporter": "python",
   "file_extension": ".py"
  },
  "kernelspec": {
   "name": "python3",
   "display_name": "Python 3.7.4 64-bit"
  },
  "interpreter": {
   "hash": "f41ed567de104a2f9ac4b47e1345335aa2ac68f8b6d3893d9b1083f17bccec61"
  }
 },
 "nbformat": 4,
 "nbformat_minor": 2
}