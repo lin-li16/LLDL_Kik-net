{
 "cells": [
  {
   "cell_type": "markdown",
   "metadata": {},
   "source": [
    "# 导入必要的库"
   ]
  },
  {
   "cell_type": "code",
   "execution_count": null,
   "metadata": {},
   "outputs": [],
   "source": [
    "import numpy as np\n",
    "import pandas as pd\n",
    "import matplotlib.pyplot as plt\n",
    "import seaborn as sns\n",
    "import torch\n",
    "import torchvision\n",
    "import torch.nn as nn\n",
    "import warnings\n",
    "import time\n",
    "import os\n",
    "import scipy.io\n",
    "from tqdm import tqdm\n",
    "from solver import train, test\n",
    "from plot import plot_loss\n",
    "from eventDataset import eqkDataset\n",
    "warnings.filterwarnings(\"ignore\")\n",
    "sns.set_style('ticks')\n",
    "# sns.set()\n",
    "sns.set_context(\"poster\")\n",
    "plt.rcParams['font.sans-serif'] = 'Times New Roman'\n",
    "torch.set_default_tensor_type(torch.DoubleTensor)"
   ]
  },
  {
   "cell_type": "markdown",
   "metadata": {},
   "source": [
    "# 数据预处理"
   ]
  },
  {
   "cell_type": "markdown",
   "metadata": {},
   "source": [
    "## 导入数据"
   ]
  },
  {
   "cell_type": "code",
   "execution_count": null,
   "metadata": {},
   "outputs": [],
   "source": [
    "station = 'TKCH08'\n",
    "dhacc = 981 * np.load(station + '_dhacc.npy')\n",
    "upacc = 981 * np.load(station + '_upacc.npy')\n",
    "mdacc = 981 * np.load(station + '_mdacc.npy')\n",
    "\n",
    "dt = 0.02\n",
    "t = np.linspace(dt, dt * dhacc.shape[1], dhacc.shape[1])"
   ]
  },
  {
   "cell_type": "markdown",
   "metadata": {},
   "source": [
    "## 数据标准化"
   ]
  },
  {
   "cell_type": "code",
   "execution_count": null,
   "metadata": {},
   "outputs": [],
   "source": [
    "# 用井下地震动的PGA进行数据标准化\n",
    "PGA_dh = np.max(np.abs(dhacc), axis=1)\n",
    "PGA_up = np.max(np.abs(mdacc), axis=1)\n",
    "for i in range(dhacc.shape[0]):\n",
    "    dhacc[i, :] = dhacc[i, :] / PGA_dh[i]\n",
    "    mdacc[i, :] = mdacc[i, :] / PGA_dh[i]"
   ]
  },
  {
   "cell_type": "code",
   "execution_count": null,
   "metadata": {},
   "outputs": [],
   "source": [
    "i = 23\n",
    "t = np.linspace(0.02, 60, 3000)\n",
    "plt.figure(figsize=((12, 3)))\n",
    "plt.subplots_adjust(left=0,bottom=0,top=1,right=1,hspace=0.3,wspace=0.2)\n",
    "plt.subplot(1, 2, 1)\n",
    "plt.plot(t, dhacc[i, :], label='downhole', linewidth=1)\n",
    "plt.xlabel('t (s)'), plt.ylabel('acc (gal)'), plt.legend(loc='upper right')\n",
    "plt.subplot(1, 2, 2)\n",
    "plt.plot(t, mdacc[i, :], '--', label='simulate', linewidth=1)\n",
    "plt.plot(t, upacc[i, :], label='record', linewidth=1)\n",
    "plt.xlabel('t (s)'), plt.ylabel('acc (gal)'), plt.legend(loc='upper right')"
   ]
  },
  {
   "cell_type": "markdown",
   "metadata": {},
   "source": [
    "## 构造训练集、验证集和测试集"
   ]
  },
  {
   "cell_type": "code",
   "execution_count": null,
   "metadata": {},
   "outputs": [],
   "source": [
    "batch_size = 64\n",
    "valid_size = 0.1\n",
    "test_size = 0.1\n",
    "\n",
    "numdata = dhacc.shape[0]\n",
    "num_valid = int(valid_size * numdata)\n",
    "num_test = int(test_size * numdata)\n",
    "num_train = numdata - num_valid - num_test\n",
    "index = list(range(numdata))\n",
    "np.random.shuffle(index)\n",
    "train_idx, valid_idx, test_idx = index[:num_train], index[num_train : num_train + num_valid], index[num_train + num_valid:]\n",
    "# train_idx, valid_idx, test_idx = train_idx[0 : 500], valid_idx[0 : 15], test_idx[0 : 15]\n",
    "\n",
    "data = scipy.io.loadmat(os.path.join(station + '_results', 'idx.mat'))\n",
    "numdata = dhacc.shape[0]\n",
    "index = list(range(numdata))\n",
    "train_idx = data['train_idx'].ravel().tolist()\n",
    "test_idx = data['test_idx'].ravel().tolist()\n",
    "valid_idx = list(set(index) - set(train_idx) - set(test_idx))\n",
    "\n",
    "train_data, train_label = dhacc[train_idx, :, None], mdacc[train_idx, :, None]\n",
    "valid_data, valid_label = dhacc[valid_idx, :, None], mdacc[valid_idx, :, None]\n",
    "test_data, test_label = dhacc[test_idx, :, None], mdacc[test_idx, :, None]\n",
    "\n",
    "train_dataset = eqkDataset(train_data, train_label)\n",
    "valid_dataset = eqkDataset(valid_data, valid_label)\n",
    "test_dataset = eqkDataset(test_data, test_label)\n",
    "\n",
    "train_loader = torch.utils.data.DataLoader(train_dataset, batch_size=batch_size)\n",
    "valid_loader = torch.utils.data.DataLoader(valid_dataset)\n",
    "test_loader = torch.utils.data.DataLoader(test_dataset)"
   ]
  },
  {
   "cell_type": "markdown",
   "metadata": {},
   "source": [
    "# 深度学习模型构建"
   ]
  },
  {
   "cell_type": "markdown",
   "metadata": {},
   "source": [
    "## 网络结构"
   ]
  },
  {
   "cell_type": "code",
   "execution_count": null,
   "metadata": {},
   "outputs": [],
   "source": [
    "class PhyCNN(nn.Module):\n",
    "    def __init__(self):\n",
    "        super(PhyCNN, self).__init__()\n",
    "        n = 3000\n",
    "        phi1 = np.concatenate([np.array([-3 / 2, 2, -1 / 2]), np.zeros([n - 3, ])])\n",
    "        temp1 = np.concatenate([-1 / 2 * np.identity(n - 2), np.zeros([n - 2, 2])], axis=1)\n",
    "        temp2 = np.concatenate([np.zeros([n - 2, 2]), 1 / 2 * np.identity(n - 2)], axis=1)\n",
    "        phi2 = temp1 + temp2\n",
    "        phi3 = np.concatenate([np.zeros([n - 3, ]), np.array([1 / 2, -2, 3 / 2])])\n",
    "        Phi_t = 1 / dt * np.concatenate([np.reshape(phi1, [1, phi1.shape[0]]), phi2, np.reshape(phi3, [1, phi3.shape[0]])], axis=0)\n",
    "        Phi_t = torch.tensor(Phi_t)\n",
    "        if torch.cuda.is_available():\n",
    "            Phi_t = Phi_t.cuda()\n",
    "        self.Phi_t = Phi_t\n",
    "        self.cnnlayer = nn.Sequential(\n",
    "            nn.Conv1d(1, 4, 101, bias=True, padding=50),\n",
    "            # nn.Sigmoid(),\n",
    "            nn.Tanh(),\n",
    "            # nn.ReLU(inplace=True),\n",
    "            nn.Conv1d(4, 16, 101, bias=True, padding=50),\n",
    "            # nn.Sigmoid(),\n",
    "            nn.Tanh(),\n",
    "            # nn.ReLU(inplace=True),\n",
    "            nn.Conv1d(16, 64, 101, bias=True, padding=50),\n",
    "            # nn.Sigmoid(),\n",
    "            # nn.Tanh(),\n",
    "            # # nn.ReLU(inplace=True),\n",
    "            # nn.Conv1d(16, 32, 101, bias=True, padding=50),\n",
    "            # nn.Tanh(),\n",
    "            # # nn.ReLU(inplace=True),\n",
    "            # nn.Conv1d(32, 64, 101, bias=True, padding=50),\n",
    "            nn.Tanh()\n",
    "            # nn.ReLU(inplace=True)\n",
    "        )\n",
    "\n",
    "        self.fc = nn.Sequential(\n",
    "            nn.Linear(64, 16),\n",
    "            # nn.Tanh(),\n",
    "            nn.ReLU(inplace=True),\n",
    "            nn.Linear(16, 4),\n",
    "            # nn.Tanh(),\n",
    "            nn.ReLU(inplace=True),\n",
    "            nn.Linear(4, 1)\n",
    "        )\n",
    "        # self._initial_parameters()\n",
    "        \n",
    "\n",
    "    def forward(self, x):\n",
    "        x = x.permute(0, 2, 1)\n",
    "        x = self.cnnlayer(x)\n",
    "        x = x.permute(0, 2, 1)\n",
    "        x = self.fc(x)\n",
    "        x_t = torch.matmul(self.Phi_t, x[:, :, 0].permute(1, 0))\n",
    "        x_tt = torch.matmul(self.Phi_t, x_t)\n",
    "        x_tt = x_tt.permute(1, 0)\n",
    "        return x_tt[:, :, None]\n",
    "    \n",
    "    \n",
    "    def _initial_parameters(self):\n",
    "        for p in self.parameters():\n",
    "            if p.dim() > 1:\n",
    "                nn.init.constant_(p, 0.01)\n",
    "            else:\n",
    "                nn.init.constant_(p, 0)"
   ]
  },
  {
   "cell_type": "markdown",
   "metadata": {},
   "source": [
    "## 定义loss函数"
   ]
  },
  {
   "cell_type": "code",
   "execution_count": null,
   "metadata": {},
   "outputs": [],
   "source": [
    "def PhyCNNLoss(output, target):\n",
    "    # loss = torch.mean(((output - target)/torch.max(torch.abs(target))).pow(2))\n",
    "    loss = torch.mean((output - target).pow(2))\n",
    "    # loss = torch.mean((output_tt - target).pow(2)) + torch.mean(output.pow(2))\n",
    "    return loss"
   ]
  },
  {
   "cell_type": "markdown",
   "metadata": {},
   "source": [
    "## 进行训练"
   ]
  },
  {
   "cell_type": "code",
   "execution_count": null,
   "metadata": {},
   "outputs": [],
   "source": [
    "max_epoch = 1000\n",
    "disp_freq = -1\n",
    "learning_rate = 0.001\n",
    "Net = PhyCNN()\n",
    "# GPU加速\n",
    "if torch.cuda.is_available():\n",
    "    Net = Net.cuda()\n",
    "# optimizer = torch.optim.LBFGS(Net.parameters(), lr=learning_rate, max_iter=2)\n",
    "optimizer = torch.optim.Adam(Net.parameters(), lr=learning_rate)\n",
    "criterion = nn.MSELoss()\n",
    "starttime = time.time()\n",
    "train_best_model ,valid_best_model, last_model, train_loss, valid_loss = train(Net, PhyCNNLoss, optimizer, train_loader, valid_loader, max_epoch, disp_freq)\n",
    "print('Training Time {:.4f}'.format(time.time()-starttime))\n",
    "prediction = test(valid_best_model, PhyCNNLoss, test_loader)\n",
    "torch.cuda.empty_cache()"
   ]
  },
  {
   "cell_type": "markdown",
   "metadata": {},
   "source": [
    "## 绘制loss变化曲线"
   ]
  },
  {
   "cell_type": "code",
   "execution_count": null,
   "metadata": {},
   "outputs": [],
   "source": [
    "plot_loss(train_loss, valid_loss)\n",
    "torch.save(train_best_model, os.path.join(station + '_results', 'simulate_CNN', 'trainbest.pt'))\n",
    "torch.save(valid_best_model, os.path.join(station + '_results', 'simulate_CNN', 'validbest.pt'))\n",
    "torch.save(last_model, os.path.join(station + '_results', 'simulate_CNN', 'last.pt'))"
   ]
  },
  {
   "cell_type": "markdown",
   "metadata": {},
   "source": [
    "# 结果处理"
   ]
  },
  {
   "cell_type": "markdown",
   "metadata": {},
   "source": [
    "## 训练集上的结果"
   ]
  },
  {
   "cell_type": "markdown",
   "metadata": {},
   "source": [
    "### 训练集结果计算"
   ]
  },
  {
   "cell_type": "code",
   "execution_count": null,
   "metadata": {},
   "outputs": [],
   "source": [
    "train_pred = np.zeros(train_data.shape)\n",
    "pbar = tqdm(range(train_data.shape[0]), desc='计算中', ncols=100)\n",
    "for i in pbar:\n",
    "    y = valid_best_model(torch.tensor(train_data[i:i+1, :, :]).cuda())\n",
    "    train_pred[i, :, :] = y.cpu().detach().numpy()\n",
    "    train_data[i, :, 0] = train_data[i, :, 0] * PGA_dh[train_idx[i]]\n",
    "    train_label[i, :, 0] = train_label[i, :, 0] * PGA_dh[train_idx[i]]\n",
    "    train_pred[i, :, 0] = train_pred[i, :, 0] * PGA_dh[train_idx[i]]"
   ]
  },
  {
   "cell_type": "markdown",
   "metadata": {},
   "source": [
    "### 训练集结果绘图"
   ]
  },
  {
   "cell_type": "code",
   "execution_count": null,
   "metadata": {},
   "outputs": [],
   "source": [
    "dof = 0\n",
    "# for i in range(0, train_pred.shape[0]):\n",
    "for i in range(0, train_pred.shape[0], int(train_pred.shape[0] / 10)):\n",
    "    plt.figure(figsize=((12, 3)))\n",
    "    plt.subplots_adjust(left=0,bottom=0,top=1,right=1,hspace=0.3,wspace=0.2)\n",
    "    plt.subplot(1, 2, 1)\n",
    "    plt.plot(t, train_data[i, :, dof], label='downhole', linewidth=1)\n",
    "    plt.xlabel('t (s)'), plt.ylabel('acc (gal)'), plt.legend(loc='upper right')\n",
    "    plt.subplot(1, 2, 2)\n",
    "    plt.plot(t, train_label[i, :, dof], label='record', linewidth=1)\n",
    "    plt.plot(t, train_pred[i, :, dof], '--', label='prediction', linewidth=1)\n",
    "    plt.xlabel('t (s)'), plt.ylabel('acc (gal)'), plt.legend(loc='upper right')\n",
    "    # plt.savefig(os.path.join(station + '_results', 'simulate_CNN', 'figures', 'train{:d}.svg'.format(i)))\n",
    "    # plt.close()"
   ]
  },
  {
   "cell_type": "markdown",
   "metadata": {},
   "source": [
    "## 测试集上的结果"
   ]
  },
  {
   "cell_type": "markdown",
   "metadata": {},
   "source": [
    "### 测试集结果计算"
   ]
  },
  {
   "cell_type": "code",
   "execution_count": null,
   "metadata": {},
   "outputs": [],
   "source": [
    "test_pred = valid_best_model(torch.tensor(test_data).cuda())\n",
    "test_pred = test_pred.cpu().detach().numpy()\n",
    "for i in range(test_data.shape[0]):\n",
    "    test_data[i, :, 0] = test_data[i, :, 0] * PGA_dh[test_idx[i]]\n",
    "    test_label[i, :, 0] = test_label[i, :, 0] * PGA_dh[test_idx[i]]\n",
    "    test_pred[i, :, 0] = test_pred[i, :, 0] * PGA_dh[test_idx[i]]\n",
    "torch.cuda.empty_cache()"
   ]
  },
  {
   "cell_type": "markdown",
   "metadata": {},
   "source": [
    "### 测试集结果绘图"
   ]
  },
  {
   "cell_type": "code",
   "execution_count": null,
   "metadata": {},
   "outputs": [],
   "source": [
    "dof = 0\n",
    "for i in range(0, test_pred.shape[0], int(test_pred.shape[0]/10)):\n",
    "# for i in range(0, test_pred.shape[0]):\n",
    "    plt.figure(figsize=((12, 3)))\n",
    "    plt.subplots_adjust(left=0,bottom=0,top=1,right=1,hspace=0.3,wspace=0.2)\n",
    "    plt.subplot(1, 2, 1)\n",
    "    plt.plot(t, test_data[i, :, dof], label='downhole', linewidth=1)\n",
    "    plt.xlabel('t (s)'), plt.ylabel('acc (gal)'), plt.legend(loc='upper right')\n",
    "    plt.subplot(1, 2, 2)\n",
    "    plt.plot(t, test_label[i, :, dof], label='record', linewidth=1)\n",
    "    plt.plot(t, test_pred[i, :, dof], '--', label='prediction', linewidth=1)\n",
    "    plt.xlabel('t (s)'), plt.ylabel('acc (gal)'), plt.legend(loc='upper right')\n",
    "    # plt.savefig(os.path.join(station + '_results', 'simulate_CNN', 'figures', 'test{:d}.svg'.format(i)))\n",
    "    # plt.close()"
   ]
  },
  {
   "cell_type": "markdown",
   "metadata": {},
   "source": [
    "## 保存结果数据"
   ]
  },
  {
   "cell_type": "code",
   "execution_count": null,
   "metadata": {},
   "outputs": [],
   "source": [
    "scipy.io.savemat(os.path.join(station + '_results', 'simulate_CNN', 'result.mat'),\n",
    "                 {'train_data': train_data, 'train_idx': train_idx, 'valid_idx': valid_idx, 'test_idx': test_idx, 'train_label': train_label, 'train_pred': train_pred, 'test_data': test_data,\n",
    "                  'test_label': test_label, 'test_pred': test_pred, 'train_loss': train_loss, 'valid_loss': valid_loss, 'time': t, 'dt': dt})"
   ]
  }
 ],
 "metadata": {
  "interpreter": {
   "hash": "f41ed567de104a2f9ac4b47e1345335aa2ac68f8b6d3893d9b1083f17bccec61"
  },
  "kernelspec": {
   "display_name": "Python 3.7.4 64-bit",
   "name": "python3"
  },
  "language_info": {
   "codemirror_mode": {
    "name": "ipython",
    "version": 3
   },
   "file_extension": ".py",
   "mimetype": "text/x-python",
   "name": "python",
   "nbconvert_exporter": "python",
   "pygments_lexer": "ipython3",
   "version": "3.9.7"
  },
  "orig_nbformat": 4
 },
 "nbformat": 4,
 "nbformat_minor": 2
}
